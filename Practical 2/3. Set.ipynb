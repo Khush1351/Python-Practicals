{
 "cells": [
  {
   "cell_type": "code",
   "execution_count": 1,
   "id": "cc12dc42",
   "metadata": {},
   "outputs": [
    {
     "name": "stdout",
     "output_type": "stream",
     "text": [
      "{'Lime', 'Mango', 'Apple', 'Banana'}\n",
      "{'Orange', 'Apple', 'Mango', 'Lime', 'Kiwi', 'Banana'}\n",
      "set()\n"
     ]
    }
   ],
   "source": [
    "#a. Write a Python program to add member(s) in a set and clear a set.\n",
    "#20CS007_Khush Bhalodiya\n",
    "fruits = {'Mango','Banana','Apple'}     #Creating a set\n",
    "fruits.add('Lime')                      #Adding an item to set\n",
    "print(fruits)                           #Prints the updated set \n",
    "fruits.update(['Orange','Kiwi'])        #Adding multiple items to the set\n",
    "print(fruits)                           #Prints the updated set \n",
    "fruits.clear()                          #Clear the set\n",
    "print(fruits)                           #Prints the empty set"
   ]
  },
  {
   "cell_type": "code",
   "execution_count": 2,
   "id": "0d455211",
   "metadata": {},
   "outputs": [
    {
     "name": "stdout",
     "output_type": "stream",
     "text": [
      "{'Apple', 'Banana'}\n"
     ]
    }
   ],
   "source": [
    "#b. Write a Python program to remove an item from a set if it is present in the set.\n",
    "#20CS007_Khush Bhalodiya\n",
    "fruits = {'Mango','Banana','Apple'}     #Creating a set\n",
    "fruits.remove('Mango')                  #Removing the item from the set\n",
    "print(fruits)                           #Prints the new set"
   ]
  },
  {
   "cell_type": "code",
   "execution_count": 3,
   "id": "e5a1021a",
   "metadata": {},
   "outputs": [
    {
     "name": "stdout",
     "output_type": "stream",
     "text": [
      "{'Mango'}\n",
      "{'Cucumber', 'Carrot', 'Apple', 'Potato', 'Mango', 'Tomato', 'Banana'}\n",
      "{'Carrot', 'Apple', 'Banana'}\n",
      "{'Cucumber', 'Tomato', 'Potato'}\n"
     ]
    }
   ],
   "source": [
    "#c. Write a Python program to create an intersection, Union, difference of sets.\n",
    "#20CS007_Khush Bhalodiya\n",
    "fruits = {'Mango','Banana','Apple','Carrot'}            #Create set 1 of fruits\n",
    "vegetables = {'Cucumber','Tomato','Potato','Mango'}     #Create set 2 of vegetables\n",
    "inter = fruits.intersection(vegetables)                 #Finds the item common between the two set\n",
    "union = fruits.union(vegetables)                        #Combines the two given set \n",
    "dif1 = fruits.difference(vegetables)                    #Finds the item present in fruits set that are not present in vegetables set\n",
    "dif2 = vegetables.difference(fruits)                    #Finds the item present in vegetables set that are not present in fruits set\n",
    "print(inter)                                            #Prints the intersection\n",
    "print(union)                                            #Prints the union of to set\n",
    "print(dif1)                                             #Prints difference\n",
    "print(dif2)                                             #Prints difference"
   ]
  },
  {
   "cell_type": "code",
   "execution_count": 4,
   "id": "b362f074",
   "metadata": {},
   "outputs": [
    {
     "name": "stdout",
     "output_type": "stream",
     "text": [
      "355\n",
      "2\n"
     ]
    }
   ],
   "source": [
    "#d. Write a Python program to find maximum and the minimum value in a set.\n",
    "#20CS007_Khush Bhalodiya\n",
    "number = {35,65,14,78,2,90,355}     #Create a set of number\n",
    "print(max(number))                  #Finds and print the maximum value\n",
    "print(min(number))                  #Finds and print the minimum value"
   ]
  },
  {
   "cell_type": "code",
   "execution_count": 5,
   "id": "b07285be",
   "metadata": {},
   "outputs": [
    {
     "name": "stdout",
     "output_type": "stream",
     "text": [
      " 1 :  5\n",
      " 5 :  2\n",
      " 3 :  3\n",
      " 4 :  3\n",
      " 2 :  4\n"
     ]
    }
   ],
   "source": [
    "#e. Write a Python program to find the most common elements and their counts from list, tuple, dictionary.\n",
    "#20CS007_Khush Bhalodiya\n",
    "def CountFrequency(my_list):\n",
    "    \n",
    "    freq = {} #Creating an empty dictionary\n",
    "    for item in my_list:\n",
    "        if(item in freq):\n",
    "            freq[item] += 1\n",
    "        else:\n",
    "            freq[item] = 1\n",
    "    \n",
    "    for key,value in freq.items():\n",
    "        print(\"% d : % d\"%(key,value))\n",
    "\n",
    "if __name__ == \"__main__\":\n",
    "    my_list = [1,1,1,5,5,3,1,3,3,1,4,4,4,2,2,2,2]\n",
    "    \n",
    "    CountFrequency(my_list)"
   ]
  },
  {
   "cell_type": "code",
   "execution_count": null,
   "id": "fdb8f5b2",
   "metadata": {},
   "outputs": [],
   "source": []
  }
 ],
 "metadata": {
  "kernelspec": {
   "display_name": "Python 3 (ipykernel)",
   "language": "python",
   "name": "python3"
  },
  "language_info": {
   "codemirror_mode": {
    "name": "ipython",
    "version": 3
   },
   "file_extension": ".py",
   "mimetype": "text/x-python",
   "name": "python",
   "nbconvert_exporter": "python",
   "pygments_lexer": "ipython3",
   "version": "3.9.7"
  }
 },
 "nbformat": 4,
 "nbformat_minor": 5
}
