{
 "cells": [
  {
   "cell_type": "code",
   "execution_count": 1,
   "id": "c79fc351",
   "metadata": {},
   "outputs": [
    {
     "name": "stdout",
     "output_type": "stream",
     "text": [
      "(10, 'Khush', 3.56, True)\n"
     ]
    }
   ],
   "source": [
    "#a. Write a Python program to create a tuple with different data types.\n",
    "#20CS007_Khush Bhalodiya\n",
    "different_datatypes = (10,'Khush',3.56,True)     #Creating a tuple with different data types.\n",
    "print(different_datatypes)                       #Printing the Tuple"
   ]
  },
  {
   "cell_type": "code",
   "execution_count": 2,
   "id": "df6e8b36",
   "metadata": {},
   "outputs": [
    {
     "name": "stdout",
     "output_type": "stream",
     "text": [
      "5\n"
     ]
    }
   ],
   "source": [
    "#b. Write a Python program to create a tuple with numbers and print one item.\n",
    "#20CS007_Khush Bhalodiya\n",
    "numbers = (1,3,5,7,9,11,13)     #Creating a tuple with numbers\n",
    "print(numbers[2])               #Printing one item"
   ]
  },
  {
   "cell_type": "code",
   "execution_count": 3,
   "id": "7295b57b",
   "metadata": {},
   "outputs": [
    {
     "name": "stdout",
     "output_type": "stream",
     "text": [
      "('Mango', 'Apple', 'Grapes')\n",
      "('Mango', 'Apple', 'Grapes', 'Lime')\n"
     ]
    }
   ],
   "source": [
    "#c. Write a Python program to add an item in a tuple.\n",
    "#20CS007_Khush Bhalodiya\n",
    "fruits = ('Mango','Apple','Grapes')     #Creating a tuple\n",
    "print(fruits)                           #Printing the tuple\n",
    "new_fruit = ('Lime',)                   #Declaring the item to be added\n",
    "fruits = fruits + new_fruit             #Adding an item to tuple\n",
    "print(fruits)                           #Printing the new tuple"
   ]
  },
  {
   "cell_type": "code",
   "execution_count": 4,
   "id": "e32e8894",
   "metadata": {},
   "outputs": [
    {
     "name": "stdout",
     "output_type": "stream",
     "text": [
      "KHUSH\n"
     ]
    }
   ],
   "source": [
    "#d. Write a Python program to convert a tuple to a string.\n",
    "#20CS007_Khush Bhalodiya\n",
    "tuple = ('K','H','U','S','H')     #Creating the tuple\n",
    "str = ''.join(tuple)              #Converting the tuple to string\n",
    "print(str)                        #Printing the string"
   ]
  },
  {
   "cell_type": "code",
   "execution_count": 5,
   "id": "1966bc90",
   "metadata": {},
   "outputs": [
    {
     "name": "stdout",
     "output_type": "stream",
     "text": [
      "4\n"
     ]
    }
   ],
   "source": [
    "#e. Write a Python program to find the length of a tuple.\n",
    "#20CS007_Khush Bhalodiya\n",
    "fruits = ('Mango','Apple','Banana','Grapes')     #Creating a tuple\n",
    "print(len(fruits))                               #Printing the length of tuple"
   ]
  },
  {
   "cell_type": "code",
   "execution_count": null,
   "id": "d049b60c",
   "metadata": {},
   "outputs": [],
   "source": []
  }
 ],
 "metadata": {
  "kernelspec": {
   "display_name": "Python 3 (ipykernel)",
   "language": "python",
   "name": "python3"
  },
  "language_info": {
   "codemirror_mode": {
    "name": "ipython",
    "version": 3
   },
   "file_extension": ".py",
   "mimetype": "text/x-python",
   "name": "python",
   "nbconvert_exporter": "python",
   "pygments_lexer": "ipython3",
   "version": "3.9.7"
  }
 },
 "nbformat": 4,
 "nbformat_minor": 5
}
