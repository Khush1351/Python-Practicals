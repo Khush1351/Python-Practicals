{
 "cells": [
  {
   "cell_type": "code",
   "execution_count": 1,
   "id": "528af8a7",
   "metadata": {},
   "outputs": [
    {
     "name": "stdout",
     "output_type": "stream",
     "text": [
      "True\n",
      "False\n"
     ]
    }
   ],
   "source": [
    "#a. Write a Python script to check whether a given key already exists in a dictionary.\n",
    "#20CS007_Khush Bhalodiya\n",
    "dict = {1:'Dog',2:'Lion',3:'Cat'}     #Create a dictionary\n",
    "print(1 in dict)                      #Checks and print whether 1 in present in dictionary or not\n",
    "print('Tiger' in dict)                #Checks and print whether 'Tiger' is present in dictionary or not"
   ]
  },
  {
   "cell_type": "code",
   "execution_count": 2,
   "id": "4dd4d68d",
   "metadata": {},
   "outputs": [
    {
     "name": "stdout",
     "output_type": "stream",
     "text": [
      "{1: 20, 2: 30, 3: 40, 4: 50, 'Red': 'Cherry', 'Orange': 'Mango', 'Green': 'Grapes'}\n"
     ]
    }
   ],
   "source": [
    "#b. Write a Python script to merge two Python dictionaries.\n",
    "#20CS007_Khush Bhalodiya\n",
    "dict1 = {1:20,2:30,3:40,4:50}                                  #Create first dictionary\n",
    "dict2 = {'Red':'Cherry','Orange':'Mango','Green':'Grapes'}     #Create second dictionary\n",
    "dict1.update(dict2)                                            #Merges the two dictionary\n",
    "print(dict1)                                                   #Prints the merged dictionary"
   ]
  },
  {
   "cell_type": "code",
   "execution_count": 3,
   "id": "de1c5177",
   "metadata": {},
   "outputs": [
    {
     "name": "stdout",
     "output_type": "stream",
     "text": [
      "900\n"
     ]
    }
   ],
   "source": [
    "#c. Write a Python program to sum all the items in a dictionary.\n",
    "#20CS007_Khush Bhalodiya\n",
    "dict = {'a':100,'b':300,'c':500}     #Create a dictionary\n",
    "print(sum(dict.values()))            #Sums the values in dictionary and prints it"
   ]
  },
  {
   "cell_type": "code",
   "execution_count": 4,
   "id": "9ea2a73f",
   "metadata": {},
   "outputs": [
    {
     "name": "stdout",
     "output_type": "stream",
     "text": [
      "{0: 10, 1: 20, 2: 30}\n"
     ]
    }
   ],
   "source": [
    "#d. Write a Python script to add a key to a dictionary.\n",
    "#20CS007_Khush Bhalodiya\n",
    "dict = {0: 10, 1: 20}     #Create a dictionary\n",
    "dict[2] = 30              #Add a key in dictionary\n",
    "print(dict)               #Prints the new dictionary"
   ]
  },
  {
   "cell_type": "code",
   "execution_count": 5,
   "id": "93d949db",
   "metadata": {},
   "outputs": [
    {
     "name": "stdout",
     "output_type": "stream",
     "text": [
      "{1: 10, 2: 20, 3: 30, 4: 40, 5: 50, 6: 60}\n"
     ]
    }
   ],
   "source": [
    "#e. Write a Python script to concatenate following dictionaries to create a new one.\n",
    "dic1={1:10, 2:20}                #Create first dictionary\n",
    "dic2={3:30, 4:40}                #Create second dictionary\n",
    "dic3={5:50, 6:60}                #Create third dictionary\n",
    "dic4 = {}                        #Create empty dictionary\n",
    "for d in (dic1,dic2,dic3):       #Concatenation of the three dictionary\n",
    "    dic4.update(d)\n",
    "print(dic4)                      #Prints the concatenated dictionary"
   ]
  },
  {
   "cell_type": "code",
   "execution_count": null,
   "id": "19c5514f",
   "metadata": {},
   "outputs": [],
   "source": []
  }
 ],
 "metadata": {
  "kernelspec": {
   "display_name": "Python 3 (ipykernel)",
   "language": "python",
   "name": "python3"
  },
  "language_info": {
   "codemirror_mode": {
    "name": "ipython",
    "version": 3
   },
   "file_extension": ".py",
   "mimetype": "text/x-python",
   "name": "python",
   "nbconvert_exporter": "python",
   "pygments_lexer": "ipython3",
   "version": "3.9.7"
  }
 },
 "nbformat": 4,
 "nbformat_minor": 5
}
