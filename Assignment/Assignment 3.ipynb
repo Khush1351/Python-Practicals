{
 "cells": [
  {
   "cell_type": "code",
   "execution_count": 1,
   "id": "aa8fb8f7",
   "metadata": {},
   "outputs": [
    {
     "name": "stdout",
     "output_type": "stream",
     "text": [
      "Enter an array: 1 2 3 4 4 3 5 6 3\n",
      "18\n"
     ]
    }
   ],
   "source": [
    "#20CS007 Khush Bhalodiya\n",
    "\n",
    "def maxArea(A, Len) :\n",
    "    area = 0\n",
    "    for i in range(Len) :\n",
    "        for j in range(i + 1, Len) :\n",
    "            area = max(area, min(A[j], A[i]) * (j - i))\n",
    "    return area\n",
    " \n",
    "a = [int(n) for n in input(\"Enter an array: \").split()]\n",
    " \n",
    "len1 = len(a)\n",
    "print(maxArea(a, len1))"
   ]
  },
  {
   "cell_type": "code",
   "execution_count": null,
   "id": "e448fc3a",
   "metadata": {},
   "outputs": [],
   "source": []
  }
 ],
 "metadata": {
  "kernelspec": {
   "display_name": "Python 3 (ipykernel)",
   "language": "python",
   "name": "python3"
  },
  "language_info": {
   "codemirror_mode": {
    "name": "ipython",
    "version": 3
   },
   "file_extension": ".py",
   "mimetype": "text/x-python",
   "name": "python",
   "nbconvert_exporter": "python",
   "pygments_lexer": "ipython3",
   "version": "3.9.7"
  }
 },
 "nbformat": 4,
 "nbformat_minor": 5
}
