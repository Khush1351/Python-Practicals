{
 "cells": [
  {
   "cell_type": "code",
   "execution_count": 1,
   "id": "fb33d9e7",
   "metadata": {},
   "outputs": [
    {
     "name": "stdout",
     "output_type": "stream",
     "text": [
      "Enter a string: hello.com\n",
      "{'h': 1, 'e': 1, 'l': 2, 'o': 2, '.': 1, 'c': 1, 'm': 1}\n"
     ]
    }
   ],
   "source": [
    "#20CS007 Khush Bhalodiya\n",
    "def char_frequency(s1):\n",
    "    dict = {}\n",
    "    for n in s1:\n",
    "        keys = dict.keys()\n",
    "        if n in keys:\n",
    "            dict[n] += 1\n",
    "        else:\n",
    "            dict[n] = 1\n",
    "    return dict\n",
    "str = input(\"Enter a string: \")\n",
    "print(char_frequency(str))"
   ]
  },
  {
   "cell_type": "code",
   "execution_count": null,
   "id": "78736cfd",
   "metadata": {},
   "outputs": [],
   "source": []
  }
 ],
 "metadata": {
  "kernelspec": {
   "display_name": "Python 3 (ipykernel)",
   "language": "python",
   "name": "python3"
  },
  "language_info": {
   "codemirror_mode": {
    "name": "ipython",
    "version": 3
   },
   "file_extension": ".py",
   "mimetype": "text/x-python",
   "name": "python",
   "nbconvert_exporter": "python",
   "pygments_lexer": "ipython3",
   "version": "3.9.7"
  }
 },
 "nbformat": 4,
 "nbformat_minor": 5
}
