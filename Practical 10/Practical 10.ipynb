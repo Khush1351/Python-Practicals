{
 "cells": [
  {
   "cell_type": "code",
   "execution_count": 1,
   "id": "f8066224",
   "metadata": {},
   "outputs": [
    {
     "name": "stderr",
     "output_type": "stream",
     "text": [
      "Image contains an alpha channel. Computing a separate soft mask (/SMask) image to store transparency in PDF.\n"
     ]
    },
    {
     "name": "stdout",
     "output_type": "stream",
     "text": [
      "Success!!\n"
     ]
    }
   ],
   "source": [
    "#20CS007 Khush Bhalodiya\n",
    "import img2pdf\n",
    "from PIL import Image\n",
    "\n",
    "# Importing the image file\n",
    "imp_path = \"C:/Users/khush/OneDrive/Desktop/Result.png\"\n",
    "\n",
    "# creating a pdf file.\n",
    "pdf_path = \"C:/Users/khush/OneDrive/Desktop/marksheet.pdf\"\n",
    "\n",
    "# creating a image file\n",
    "image = Image.open(imp_path)\n",
    "\n",
    "# creating a pdf from the image.\n",
    "pdf_bytes = img2pdf.convert(image.filename)\n",
    "\n",
    "# opening file\n",
    "file = open(pdf_path, \"wb\")\n",
    "\n",
    "# writing the file.\n",
    "file.write(pdf_bytes)\n",
    "\n",
    "# closing an image.\n",
    "image.close()\n",
    "\n",
    "# closing an file.\n",
    "file.close()\n",
    "\n",
    "print(\"Success!!\")"
   ]
  },
  {
   "cell_type": "code",
   "execution_count": null,
   "id": "c5d669b4",
   "metadata": {},
   "outputs": [],
   "source": []
  }
 ],
 "metadata": {
  "kernelspec": {
   "display_name": "Python 3 (ipykernel)",
   "language": "python",
   "name": "python3"
  },
  "language_info": {
   "codemirror_mode": {
    "name": "ipython",
    "version": 3
   },
   "file_extension": ".py",
   "mimetype": "text/x-python",
   "name": "python",
   "nbconvert_exporter": "python",
   "pygments_lexer": "ipython3",
   "version": "3.9.7"
  }
 },
 "nbformat": 4,
 "nbformat_minor": 5
}
