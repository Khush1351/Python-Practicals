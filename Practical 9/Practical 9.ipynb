{
 "cells": [
  {
   "cell_type": "code",
   "execution_count": 1,
   "id": "6c930731",
   "metadata": {},
   "outputs": [
    {
     "name": "stdout",
     "output_type": "stream",
     "text": [
      "Enter marks for six subject of Khush Bhalodiya : \n",
      "20\n",
      "30\n",
      "45\n",
      "56\n",
      "12\n",
      "13\n",
      "-----RESULT-----\n",
      "Name :\t\t\tKhush Bhalodiya\n",
      "Roll No : \t\t20CS007\n",
      "Division : \t\tCSE-A1 Batch\n",
      "Total Marks : \t176\n"
     ]
    }
   ],
   "source": [
    "# 20CS007 Khush Bhalodiya\n",
    "class Student:\n",
    "    def __init__(self, rollNumber, name, div):\n",
    "        self.rollNumber = rollNumber\n",
    "        self.name = name\n",
    "        self.div = div\n",
    "\n",
    "class Exam(Student):\n",
    "    def __init__(self, rollNumber, name, div):\n",
    "        super().__init__(rollNumber, name, div)\n",
    "        self.mark = []\n",
    "\n",
    "    def marks(self):\n",
    "        print(f\"Enter marks for six subject of {self.name} : \")\n",
    "        for i in range(6):\n",
    "            temp = int(input())\n",
    "            self.mark.append(temp)\n",
    "\n",
    "class Result(Exam):\n",
    "    def __init__(self, rollNumber, name, div):\n",
    "        super().__init__(rollNumber, name, div)\n",
    "        self.total_marks = 0\n",
    "\n",
    "    def final_result(self):\n",
    "        for i in range(6):\n",
    "            self.total_marks += self.mark[i]\n",
    "\n",
    "        print(f\"-----RESULT-----\"\n",
    "              f\"\\nName :\\t\\t\\t{self.name}\\nRoll No : \\t\\t{self.rollNumber}\\nDivision : \\t\\t{self.div}\\nTotal Marks : \\t{self.total_marks}\")\n",
    "\n",
    "result = Result(\"20CS007\",\"Khush Bhalodiya\",\"CSE-A1 Batch\")\n",
    "result.marks()\n",
    "result.final_result()"
   ]
  },
  {
   "cell_type": "code",
   "execution_count": null,
   "id": "8510b0d7",
   "metadata": {},
   "outputs": [],
   "source": []
  }
 ],
 "metadata": {
  "kernelspec": {
   "display_name": "Python 3 (ipykernel)",
   "language": "python",
   "name": "python3"
  },
  "language_info": {
   "codemirror_mode": {
    "name": "ipython",
    "version": 3
   },
   "file_extension": ".py",
   "mimetype": "text/x-python",
   "name": "python",
   "nbconvert_exporter": "python",
   "pygments_lexer": "ipython3",
   "version": "3.9.7"
  }
 },
 "nbformat": 4,
 "nbformat_minor": 5
}
