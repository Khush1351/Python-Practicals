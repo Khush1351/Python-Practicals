{
 "cells": [
  {
   "cell_type": "code",
   "execution_count": 1,
   "id": "470cf686",
   "metadata": {},
   "outputs": [
    {
     "name": "stdout",
     "output_type": "stream",
     "text": [
      "6\n",
      "gaga\n",
      "YES\n",
      "abcde\n",
      "NO\n",
      "rotor\n",
      "YES\n",
      "xyzxy\n",
      "YES\n",
      "abbaab\n",
      "NO\n",
      "ababc\n",
      "NO\n"
     ]
    }
   ],
   "source": [
    "#20CS007 Khush Bhalodiya\n",
    "num = int(input())\n",
    "s1 = \"\"\n",
    "s2 = \"\"\n",
    "for i in range(num):\n",
    "    s =input()\n",
    "    l = len(s)\n",
    "    mid = int(l / 2)\n",
    "    if(l%2==0):\n",
    "        s1 = s[:mid]\n",
    "        s2 = s[mid:]\n",
    "    else:\n",
    "        s1 = s[:mid]\n",
    "        s2 = s[mid+1:]\n",
    "    l1 = list(s1)\n",
    "    l2 = list(s2)\n",
    "    l1.sort()\n",
    "    l2.sort()\n",
    "\n",
    "    if(l1==l2):\n",
    "        print(\"YES\")\n",
    "    else:\n",
    "        print(\"NO\")"
   ]
  },
  {
   "cell_type": "code",
   "execution_count": null,
   "id": "13ee3f87",
   "metadata": {},
   "outputs": [],
   "source": []
  }
 ],
 "metadata": {
  "kernelspec": {
   "display_name": "Python 3 (ipykernel)",
   "language": "python",
   "name": "python3"
  },
  "language_info": {
   "codemirror_mode": {
    "name": "ipython",
    "version": 3
   },
   "file_extension": ".py",
   "mimetype": "text/x-python",
   "name": "python",
   "nbconvert_exporter": "python",
   "pygments_lexer": "ipython3",
   "version": "3.9.7"
  }
 },
 "nbformat": 4,
 "nbformat_minor": 5
}
